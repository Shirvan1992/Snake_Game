{
 "cells": [
  {
   "cell_type": "code",
   "execution_count": null,
   "metadata": {},
   "outputs": [],
   "source": [
    "import\n",
    "class move:\n",
    "    def __init__(self):\n",
    "        pass\n",
    "    \n",
    "    def snake_move(self):\n",
    "        for seg_num in range(len(segments) - 1, 0, -1):\n",
    "            new_x = segments[seg_num - 1].xcor()\n",
    "            new_y = segments[seg_num -1].ycor()\n",
    "            segments[seg_num].goto(new_x, new_y)\n",
    "        \n",
    "        return segments[0].forward(20)\n",
    "        "
   ]
  }
 ],
 "metadata": {
  "kernelspec": {
   "display_name": "Python 3",
   "language": "python",
   "name": "python3"
  },
  "language_info": {
   "codemirror_mode": {
    "name": "ipython",
    "version": 3
   },
   "file_extension": ".py",
   "mimetype": "text/x-python",
   "name": "python",
   "nbconvert_exporter": "python",
   "pygments_lexer": "ipython3",
   "version": "3.8.5"
  }
 },
 "nbformat": 4,
 "nbformat_minor": 4
}
