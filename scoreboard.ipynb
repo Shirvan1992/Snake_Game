{
 "cells": [
  {
   "cell_type": "code",
   "execution_count": 1,
   "metadata": {},
   "outputs": [],
   "source": [
    "from turtle import Turtle\n",
    "ALIGNMENT = \"center\"\n",
    "FONT = (\"Courier\", 18, \"normal\")\n",
    "\n",
    "\n",
    "class Scoreboard(Turtle):\n",
    "    def __init__(self):\n",
    "        super().__init__()\n",
    "        self.score = 0\n",
    "        self.color(\"white\")\n",
    "        self.penup()\n",
    "        self.goto(0, 270)\n",
    "        self.hideturtle()\n",
    "        self.update_scoreboard()\n",
    "\n",
    "    \n",
    "    def update_scoreboard(self):\n",
    "        self.write(f\"Score: {self.score}\", move=False, align= ALIGNMENT, font= FONT)\n",
    "\n",
    "        \n",
    "    \n",
    "    def game_over(self):\n",
    "        self.goto(0, 0)\n",
    "        self.write(\"Game Over\", move=False, align= ALIGNMENT, font= FONT)\n",
    "        \n",
    "        \n",
    "        \n",
    "    def increase(self):\n",
    "        self.score += 1 \n",
    "        self.clear()\n",
    "        self.update_scoreboard()\n",
    "\n",
    "\n"
   ]
  },
  {
   "cell_type": "code",
   "execution_count": null,
   "metadata": {},
   "outputs": [],
   "source": []
  }
 ],
 "metadata": {
  "kernelspec": {
   "display_name": "Python 3",
   "language": "python",
   "name": "python3"
  },
  "language_info": {
   "codemirror_mode": {
    "name": "ipython",
    "version": 3
   },
   "file_extension": ".py",
   "mimetype": "text/x-python",
   "name": "python",
   "nbconvert_exporter": "python",
   "pygments_lexer": "ipython3",
   "version": "3.8.5"
  }
 },
 "nbformat": 4,
 "nbformat_minor": 4
}
