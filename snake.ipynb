{
 "cells": [
  {
   "cell_type": "code",
   "execution_count": 1,
   "metadata": {},
   "outputs": [],
   "source": [
    "from turtle import Turtle\n",
    "\n",
    "starting_positions = [(0, 0), (-20, 0), (-40, 0)]\n",
    "move_distance = 20\n",
    "UP = 90\n",
    "DOWN = 270\n",
    "LEFT = 180\n",
    "RIGHT = 0\n",
    "\n",
    "\n",
    "\n",
    "class Snake(Turtle):\n",
    "\n",
    "\n",
    "    def __init__(self):\n",
    "        super().__init__()\n",
    "        self.segments = []\n",
    "        self.create_snake()\n",
    "        self.head = self.segments[0]\n",
    "        \n",
    "    def create_snake(self):\n",
    "        for position in starting_positions:\n",
    "            self.add_segment(position)\n",
    "   \n",
    "    def add_segment(self, position):\n",
    "        square = Turtle(shape = \"square\")\n",
    "        square.color(\"white\")\n",
    "        square.penup()\n",
    "        square.setpos(position)\n",
    "        self.segments.append(square) \n",
    "        \n",
    "    \n",
    "    def extend(self):\n",
    "        self.add_segment(self.segments[-1].position())\n",
    "        \n",
    "    \n",
    "    def move(self):\n",
    "        for seg_num in range(len(self.segments) - 1, 0, -1):\n",
    "            new_x = self.segments[seg_num - 1].xcor()\n",
    "            new_y = self.segments[seg_num -1].ycor()\n",
    "            self.segments[seg_num].goto(new_x, new_y)\n",
    "        self.head.forward(move_distance)\n",
    "    \n",
    "   \n",
    "    def right(self):\n",
    "        if self.head.heading() != LEFT:\n",
    "            self.head.setheading(RIGHT)\n",
    "        \n",
    "    def left(self):\n",
    "        if self.head.heading() != RIGHT:\n",
    "            self.head.setheading(LEFT)        \n",
    "\n",
    "    def up(self):\n",
    "        if self.head.heading() != DOWN:\n",
    "            self.head.setheading(UP) \n",
    "\n",
    "    def down(self):\n",
    "        if self.head.heading() != UP:\n",
    "            self.head.setheading(DOWN) "
   ]
  },
  {
   "cell_type": "code",
   "execution_count": null,
   "metadata": {},
   "outputs": [],
   "source": []
  }
 ],
 "metadata": {
  "kernelspec": {
   "display_name": "Python 3",
   "language": "python",
   "name": "python3"
  },
  "language_info": {
   "codemirror_mode": {
    "name": "ipython",
    "version": 3
   },
   "file_extension": ".py",
   "mimetype": "text/x-python",
   "name": "python",
   "nbconvert_exporter": "python",
   "pygments_lexer": "ipython3",
   "version": "3.8.5"
  }
 },
 "nbformat": 4,
 "nbformat_minor": 4
}
